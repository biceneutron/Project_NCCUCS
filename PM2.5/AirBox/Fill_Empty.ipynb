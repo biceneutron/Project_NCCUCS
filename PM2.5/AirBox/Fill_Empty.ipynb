{
 "cells": [
  {
   "cell_type": "code",
   "execution_count": null,
   "metadata": {},
   "outputs": [],
   "source": [
    "# -*- coding: utf-8 -*-\n",
    "import csv\n",
    "import codecs\n",
    "\n",
    "\n",
    "f1 = open('./敦化國小.csv', 'r')\n",
    "f2 = open('./健康國小.csv', 'r')\n",
    "\n",
    "data1 = csv.reader(f1)\n",
    "data2 = csv.reader(f2)\n",
    "\n",
    "\n",
    "for (row1, row2) in (data1, data2):\n",
    "    for i in range(2, 26):\n",
    "        if row1[i] == ' ' and row2[i] != ' ':\n",
    "            row1[i] == row2[i]\n",
    "        elif row1[i] == ' ' and row2[i] == ' ':\n",
    "            while\n",
    "            \n",
    "\n",
    "\n",
    "\n",
    "\n",
    "\n",
    "\n",
    "\n",
    "f1.close()\n",
    "f2.close()\n",
    "            \n",
    "\n",
    "        \n",
    "f = open(\"pm25_cleaned.csv\",\"w\")\n",
    "w = csv.writer(f)\n",
    "w.writerows(data1_PM25)\n",
    "f.close()\n"
   ]
  }
 ],
 "metadata": {
  "kernelspec": {
   "display_name": "Python 3",
   "language": "python",
   "name": "python3"
  },
  "language_info": {
   "codemirror_mode": {
    "name": "ipython",
    "version": 3
   },
   "file_extension": ".py",
   "mimetype": "text/x-python",
   "name": "python",
   "nbconvert_exporter": "python",
   "pygments_lexer": "ipython3",
   "version": "3.6.4"
  }
 },
 "nbformat": 4,
 "nbformat_minor": 2
}
