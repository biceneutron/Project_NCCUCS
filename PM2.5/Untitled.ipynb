{
 "cells": [
  {
   "cell_type": "code",
   "execution_count": 1,
   "metadata": {
    "scrolled": false
   },
   "outputs": [],
   "source": [
    "# -*- coding: utf-8 -*-\n",
    "import csv\n",
    "import codecs\n",
    "\n",
    "\n",
    "f1 = open('./106年 北部空品區-3/106年松山站_20180309.csv', 'r')\n",
    "f2 = open('./106年 北部空品區-3/106年中山站_20180309.csv', 'r')\n",
    "\n",
    "data1 = csv.reader(f1)\n",
    "data2 = csv.reader(f2)\n",
    "\n",
    "data1_PM25 = []\n",
    "data2_PM25 = []\n",
    "data_write = []\n",
    "\n",
    "\n",
    "def isValid(str):\n",
    "    if '#' in str or '*' in str or 'x' in str or str == '':\n",
    "        return False\n",
    "    else:\n",
    "        return True\n",
    "\n",
    "# clean data1\n",
    "for row in data1:\n",
    "    if row[2] == 'PM2.5':\n",
    "        data1_PM25.append(row)\n",
    "\n",
    "'''\n",
    "with open('pm25.csv', 'wb') as csvfile:\n",
    "    csvfile.write(codecs.BOM_UTF8)\n",
    "    spamwriter = csv.writer(csvfile, dialect='excel')\n",
    "    spamwriter.writerows(data1_PM25)\n",
    "\n",
    "'''\n",
    "f = open(\"pm25.csv\",\"w\")\n",
    "w = csv.writer(f)\n",
    "w.writerows(data1_PM25)\n",
    "f.close()\n",
    "        \n",
    "        \n",
    "# clean data2\n",
    "for row in data2:\n",
    "    if row[2] == 'PM2.5':\n",
    "        data2_PM25.append(row)\n",
    "\n",
    "f1.close()\n",
    "f2.close()\n",
    "\n",
    "for i in range(0, 365):\n",
    "    for j in range(3, 27):\n",
    "        if not isValid(data1_PM25[i][j]):\n",
    "            if isValid(data2_PM25[i][j]):\n",
    "                data1_PM25[i][j] = data2_PM25[i][j]\n",
    "            else:\n",
    "                if j-1 < 3:\n",
    "                    data1_PM25[i][j] = data1_PM25[i-1][j]\n",
    "                else:\n",
    "                    data1_PM25[i][j] = data1_PM25[i][j-1]\n",
    "            \n",
    "\n",
    "        \n",
    "f = open(\"pm25_cleaned.csv\",\"w\")\n",
    "w = csv.writer(f)\n",
    "w.writerows(data1_PM25)\n",
    "f.close()\n"
   ]
  },
  {
   "cell_type": "code",
   "execution_count": null,
   "metadata": {},
   "outputs": [],
   "source": []
  },
  {
   "cell_type": "code",
   "execution_count": null,
   "metadata": {},
   "outputs": [],
   "source": []
  }
 ],
 "metadata": {
  "kernelspec": {
   "display_name": "Python 3",
   "language": "python",
   "name": "python3"
  },
  "language_info": {
   "codemirror_mode": {
    "name": "ipython",
    "version": 3
   },
   "file_extension": ".py",
   "mimetype": "text/x-python",
   "name": "python",
   "nbconvert_exporter": "python",
   "pygments_lexer": "ipython3",
   "version": "3.6.4"
  }
 },
 "nbformat": 4,
 "nbformat_minor": 2
}
